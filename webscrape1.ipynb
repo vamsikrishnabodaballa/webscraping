{
 "cells": [
  {
   "cell_type": "code",
   "execution_count": 1,
   "id": "parental-priority",
   "metadata": {},
   "outputs": [],
   "source": [
    "from bs4 import BeautifulSoup # for parsing HTML documents\n",
    "import requests # for making HTTP requests\n",
    "import json # To work with JSON data"
   ]
  },
  {
   "cell_type": "code",
   "execution_count": 2,
   "id": "cooked-invitation",
   "metadata": {},
   "outputs": [],
   "source": [
    "novel={}\n",
    "#creating an empty dictionary"
   ]
  },
  {
   "cell_type": "code",
   "execution_count": 3,
   "id": "wicked-botswana",
   "metadata": {},
   "outputs": [],
   "source": [
    "for i in range(1,31):\n",
    "    URL='https://novelfull.com/warriors-promise/chapter-{}.html'.format(i)\n",
    "    data=requests.get(URL)\n",
    "    soup= BeautifulSoup(data.text,'lxml')\n",
    "    match = soup.find('div',class_='chapter-c')\n",
    "    divs=match.find_all('div')\n",
    "    novel[\"Chapter {}\".format(i)]={} \n",
    "    novel[\"Chapter {}\".format(i)][\"Name\"]=divs[0].h3.text[divs[0].h3.text.find(\":\")+2:]\n",
    "    novel[\"Chapter {}\".format(i)][\"Translator\"]=divs[0].p.text[divs[0].p.text.find(\":\")+2:divs[0].p.text.find(\"Editor\")-2]\n",
    "    novel[\"Chapter {}\".format(i)][\"Editor\"]=divs[0].p.text[divs[0].p.text.rfind(\":\")+2:]\n",
    "    a=[]\n",
    "    ps=divs[1].find_all('p')\n",
    "    for k in ps:\n",
    "        k = k.text.replace('\\xa0', '')\n",
    "        a.append(k)\n",
    "    novel[\"Chapter {}\".format(i)][\"Story\"]=a"
   ]
  },
  {
   "cell_type": "code",
   "execution_count": 4,
   "id": "regulated-prompt",
   "metadata": {},
   "outputs": [],
   "source": [
    "with open('brave_AI.json', 'w') as outfile:\n",
    "    json.dump(novel, outfile)"
   ]
  }
 ],
 "metadata": {
  "kernelspec": {
   "display_name": "Python 3",
   "language": "python",
   "name": "python3"
  },
  "language_info": {
   "codemirror_mode": {
    "name": "ipython",
    "version": 3
   },
   "file_extension": ".py",
   "mimetype": "text/x-python",
   "name": "python",
   "nbconvert_exporter": "python",
   "pygments_lexer": "ipython3",
   "version": "3.8.7"
  }
 },
 "nbformat": 4,
 "nbformat_minor": 5
}
